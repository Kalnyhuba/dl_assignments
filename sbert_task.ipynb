{
 "cells": [
  {
   "cell_type": "code",
   "execution_count": 12,
   "metadata": {},
   "outputs": [],
   "source": [
    "import pandas as pd"
   ]
  },
  {
   "cell_type": "code",
   "execution_count": 13,
   "metadata": {},
   "outputs": [],
   "source": [
    "data_text = \"\"\"\n",
    "Country/Description/Weather/Affordability/Nature of Inhabitants/Most Visited Landmarks\n",
    "Albania/located in Southeast Europe, is known for its beautiful beaches along the Adriatic and Ionian Seas, ancient archaeological sites, and vibrant capital city Tirana./Mediterranean climate with hot, dry summers and mild, wet winters/Affordable/Friendly and hospitable/Skanderbeg Square, Berat, Butrint National Park\n",
    "Andorra/nestled in the Pyrenees mountains, is a small principality renowned for its ski resorts, duty-free shopping, and picturesque landscapes./Mountain climate with cold winters and mild summers/Moderate/Welcoming and multicultural/Casa de la Vall, Vallnord ski resorts, Caldea Spa\n",
    "Austria/is a landlocked country in Central Europe known for its rich cultural heritage, stunning alpine landscapes, and classical music history./Varied climates with alpine in the mountains and continental in the lowlands/Moderate/Warm and welcoming/Schönbrunn Palace, Hallstatt, Vienna State Opera\n",
    "Belarus/situated in Eastern Europe, is known for its expansive forests, diverse wildlife, and the historic city of Minsk./Continental climate with cold winters and warm summers/Affordable/Hospitable and family-oriented/Mir Castle, Białowieża Forest, National Opera and Ballet of Belarus\n",
    "Belgium/located in Western Europe, is famous for its medieval towns, delicious chocolates, and the European Union headquarters in Brussels./Temperate maritime climate with moderate temperatures and frequent rainfall/Moderate/Open-minded and multicultural/Grand Place, Atomium, Bruges' medieval architecture\n",
    "Bosnia and Herzegovina/in the Balkans, is celebrated for its diverse landscapes, historic sites like Mostar's Old Bridge, and warm hospitality./Mediterranean climate along the coast and continental inland/Affordable/Hospitable and culturally diverse/Old Bridge of Mostar, Sarajevo's Bascarsija, Kravice Waterfalls\n",
    "Bulgaria/in Southeast Europe, offers a mix of mountainous landscapes, Black Sea beaches, and ancient Thracian ruins./Varied climates with continental, Mediterranean, and alpine influences/Affordable/Friendly and family-oriented/Alexander Nevsky Cathedral, Rila Monastery, Black Sea resorts\n",
    "Croatia/along the Adriatic Sea, is known for its stunning coastline, historic cities like Dubrovnik and Split, and beautiful islands./Mediterranean climate with hot, dry summers and mild, wet winters/Moderate/Hospitable and laid-back/Dubrovnik's City Walls, Plitvice Lakes National Park, Diocletian's Palace\n",
    "Cyprus/an island nation in the Mediterranean, is famous for its ancient history, scenic beaches, and vibrant nightlife./Mediterranean climate with hot, dry summers and mild, wet winters/Moderate/Friendly and relaxed/Paphos Archaeological Park, Troodos Mountains, Ayia Napa beaches\n",
    "The Czech Republic/in Central Europe, is renowned for its fairytale-like castles, historic Prague, and a strong beer culture./Temperate continental climate with cold winters and warm summers/Moderate/Hospitable and proud/Prague Castle, Charles Bridge, Český Krumlov\n",
    "Denmark/located in Northern Europe, is known for its picturesque landscapes, cycling culture, and the vibrant capital city Copenhagen./Temperate maritime climate with mild, wet winters and cool summers/Moderate/Open-minded and egalitarian/The Little Mermaid, Tivoli Gardens, Nyhavn\n",
    "Estonia/on the Baltic Sea, is celebrated for its medieval architecture, tech-savvy culture, and the charming capital city Tallinn./Temperate climate with cold winters and mild summers/Affordable/Innovative and tech-savvy/Tallinn Old Town, Kadriorg Palace, Lahemaa National Park\n",
    "Finland/in Northern Europe, is famous for its pristine nature, northern lights, and design innovations./Subarctic climate with cold winters and short, mild summers/Expensive/Reserved and nature-loving/Helsinki Cathedral, Northern Lights in Lapland, Suomenlinna Fortress\n",
    "France/in Western Europe, is renowned for its romantic ambiance, world-class cuisine, and iconic landmarks such as the Eiffel Tower and Louvre Museum./Varied climates with Mediterranean in the south and oceanic in the west/Moderate/Stylish and diverse/Eiffel Tower, Louvre Museum, Mont Saint-Michel\n",
    "Germany/is a powerhouse in Central Europe, celebrated for its efficient engineering, historic castles, and vibrant cultural scenes./Varied climates with maritime in the northwest and continental in the east/Moderate/Orderly and efficient/Neuschwanstein Castle, Brandenburg Gate, Cologne Cathedral\n",
    "Greece/in Southern Europe, offers a rich history, ancient ruins like the Acropolis, and beautiful islands in the Aegean and Ionian Seas./Mediterranean climate with hot, dry summers and mild, wet winters/Moderate/Hospitable and passionate/Acropolis of Athens, Santorini, Olympia\n",
    "Hungary/in Central Europe, is known for its thermal baths, historic architecture in Budapest, and the scenic Danube River./Continental climate with hot summers and cold winters/Affordable/Hospitable and proud/Buda Castle, Hungarian Parliament Building, Széchenyi Thermal Bath\n",
    "Iceland/an island nation in the North Atlantic, is famous for its geysers, waterfalls, and a unique landscape shaped by glaciers and volcanoes./Subarctic climate with cool summers and cold winters/Expensive/Independent and resilient/Golden Circle, Blue Lagoon, Jökulsárlón Glacier Lagoon\n",
    "Ireland/an island in Northwestern Europe, is celebrated for its lush green landscapes, historic castles, and lively pub culture./Temperate maritime climate with mild temperatures and frequent rainfall/Moderate/Friendly and jovial/Cliffs of Moher, Dublin's Temple Bar, Giant's Causeway\n",
    "Italy/located in Southern Europe, is famous for its art, architecture, delicious cuisine, and picturesque cities like Rome, Venice, and Florence./Varied climates with Mediterranean in the coastal areas and alpine in the north/Moderate and Expensive/Hospitable and passionate/Colosseum, Venice Canals, Leaning Tower of Pisa\n",
    "Kosovo/in the Balkans, is known for its diverse culture, historic sites, and scenic landscapes./Continental climate with hot summers and cold winters/Affordable/Hospitable and resilient/Gračanica Monastery, Bear Sanctuary Mramor, Patriarchate of Peć\n",
    "Latvia/on the Baltic Sea, is renowned for its medieval Old Town in Riga, beautiful beaches, and vibrant cultural scene./Temperate climate with cool summers and cold winters/Affordable/Friendly and festive/Riga Old Town, Jūrmala Beach, Gauja National Park\n",
    "Liechtenstein/a tiny principality nestled in the Alps, is known for its alpine landscapes, Vaduz Castle, and a strong banking sector./Continental climate with cold winters and warm summers/Expensive/Reserved and wealthy/Vaduz Castle, Malbun ski resort, Gutenberg Castle\n",
    "Lithuania/on the Baltic Sea, is celebrated for its medieval architecture, charming old towns, and scenic countryside./Temperate climate with mild, wet winters and moderate summers/Affordable/Friendly and welcoming/Vilnius Old Town, Trakai Island Castle, Hill of Crosses\n",
    "Luxembourg/a small landlocked country, is known for its medieval castles, fortified city of Luxembourg, and a prosperous economy./Temperate maritime climate with mild winters and cool summers/Expensive/Prosperous and multicultural/Luxembourg City, Vianden Castle, Müllerthal Trail\n",
    "Malta/an island nation in the Mediterranean, is famous for its historic sites, crystal-clear waters, and a unique blend of cultures./Mediterranean climate with hot, dry summers and mild, wet winters/Moderate/Open-minded and diverse/Valletta's Grand Harbour, Mdina, Blue Lagoon\n",
    "Moldova/in Eastern Europe, is known for its vineyards, monasteries, and the capital city Chisinau./Continental climate with hot summers and cold winters/Affordable/Hospitable and traditional/Orheiul Vechi, Cricova wine cellars, Milestii Mici\n",
    "Monaco/a tiny principality on the French Riviera, is famous for its glamorous casinos, Grand Prix, and luxury yachts./Mediterranean climate with mild, wet winters and hot, dry summers/Expensive/Wealthy and cosmopolitan/Monaco Casino, Prince's Palace, Larvotto Beach\n",
    "Montenegro/along the Adriatic Sea, offers stunning coastal landscapes, historic towns like Kotor, and pristine national parks./Mediterranean climate with hot, dry summers and mild, wet winters/Affordable/Hospitable and diverse/Bay of Kotor, Budva Old Town, Durmitor National Park\n",
    "The Netherlands/in Western Europe, is celebrated for its picturesque canals, tulip fields, and the vibrant cities of Amsterdam and Rotterdam./Temperate maritime climate with mild temperatures and frequent rainfall/Moderate/Open-minded and progressive/Amsterdam's Canals, Keukenhof Gardens, Rijksmuseum\n",
    "North Macedonia/in the Balkans, is known for its ancient history, scenic landscapes, and the capital city Skopje./Continental climate with hot summers and cold winters/Affordable/Hospitable and culturally rich/Skopje's Old Bazaar, Ohrid, Matka Canyon\n",
    "Norway/in Northern Europe, is famous for its fjords, mountains, and vibrant cities like Oslo and Bergen./Temperate maritime climate with cold winters and cool summers/Expensive/Reserved and nature-loving/Geirangerfjord, Northern Lights in Tromsø, Oslo's Opera House\n",
    "Poland/in Central Europe, offers a rich history, medieval architecture, and vibrant cultural scenes in cities like Warsaw and Krakow./Temperate climate with cold winters and mild, wet summers/Affordable/Friendly and resilient/Warsaw's Old Town, Wawel Castle, Auschwitz-Birkenau\n",
    "Portugal/on the Iberian Peninsula, is celebrated for its historic cities, beautiful beaches, and a rich maritime history./Mediterranean climate with hot, dry summers and mild, wet winters/Moderate/Friendly and relaxed/Lisbon's Belem Tower, Porto's Ribeira, Algarve beaches\n",
    "Romania/in Southeast Europe, is known for its medieval castles, picturesque landscapes, and the capital city Bucharest./Continental climate with hot summers and cold winters/Affordable/Hospitable and traditional/Bran Castle, Transfagarasan Highway, Peles Castle\n",
    "Russia/the largest country in Europe, spans Eastern Europe and Northern Asia, offering diverse landscapes, historic cities, and a rich cultural heritage./Varied climates with arctic in the north and continental in the central regions/Expensive/Diverse and resilient/Red Square, Hermitage Museum, Trans-Siberian Railway\n",
    "San Marino/a landlocked microstate surrounded by Italy, is known for its medieval architecture, mountainous landscapes, and historic sites./Mediterranean climate with mild, wet winters and hot, dry summers/Expensive/Traditional and proud/Three Towers of San Marino, Guaita, Mount Titano\n",
    "Serbia/in the Balkans, is celebrated for its vibrant cultural scenes, historic monasteries, and the capital city Belgrade./Continental climate with hot summers and cold winters/Affordable/Hospitable and energetic/Belgrade's Kalemegdan Fortress, Studenica Monastery, Niš Fortress\n",
    "Slovakia/in Central Europe, is known for its castles, mountainous landscapes, and the charming capital city Bratislava./Continental climate with hot summers and cold winters/Affordable/Friendly and proud/Bratislava Castle, High Tatras, Spiš Castle\n",
    "Slovenia/in the Balkans, offers diverse landscapes, historic cities like Ljubljana, and outdoor activities in the Julian Alps./Mediterranean climate along the coast and alpine in the mountains/Affordable/Hospitable and outdoorsy/Lake Bled, Ljubljana's Triple Bridge, Triglav National Park\n",
    "Spain/on the Iberian Peninsula, is celebrated for its diverse culture, lively festivals, beautiful beaches, and historic landmarks like Sagrada Familia./Varied climates with Mediterranean in the east and oceanic in the north/Moderate/Friendly and passionate/Sagrada Familia, Alhambra, Park Güell\n",
    "Sweden/in Northern Europe, is known for its stunning landscapes, vibrant cities, and the Northern Lights in Lapland./Temperate climate with cold winters and mild, wet summers/Expensive/Reserved and egalitarian/Stockholm's Gamla Stan, Icehotel in Jukkasjärvi, Abisko National Park\n",
    "Switzerland/a landlocked country in Central Europe, is famous for its alpine landscapes, precision watches, and chocolate./Varied climates with alpine in the mountains and continental in the lowlands/Expensive/Reserved and prosperous/Matterhorn, Jungfraujoch, Lake Geneva\n",
    "Ukraine/in Eastern Europe, offers diverse landscapes, historic cities, and the Carpathian Mountains./Continental climate with cold winters and warm summers/Affordable/Hospitable and resilient/Kiev's St. Sophia's Cathedral, Lviv's Old Town, Crimea's Swallow's Nest\n",
    "The United Kingdom/consisting of England, Scotland, Wales, and Northern Ireland, is known for its rich history, diverse cultures, and iconic landmarks./Temperate maritime climate with mild temperatures and frequent rainfall/Moderate/Diverse and multicultural/Stonehenge, Tower of London, Edinburgh Castle\n",
    "Vatican City/a city-state surrounded by Rome, Italy, is the smallest independent state in the world, known for its religious significance and artistic heritage./Mediterranean climate with hot, dry summers and mild, wet winters/Expensive/Traditional and religious/St. Peter's Basilica, Sistine Chapel, Vatican Museums\n",
    "\"\"\"\n",
    "\n",
    "lines = data_text.strip().split('\\n')\n",
    "\n",
    "header = lines[0].split('/')\n",
    "data = [line.split('/') for line in lines[1:]]\n",
    "\n",
    "for row in data:\n",
    "    if len(row) != len(header):\n",
    "        row.extend([''] * (len(header) - len(row)))\n",
    "\n",
    "data_dict = {header[i]: [row[i] for row in data] for i in range(len(header))}\n",
    "\n",
    "df = pd.DataFrame(data_dict)\n"
   ]
  },
  {
   "cell_type": "code",
   "execution_count": 14,
   "metadata": {},
   "outputs": [
    {
     "data": {
      "text/html": [
       "<div>\n",
       "<style scoped>\n",
       "    .dataframe tbody tr th:only-of-type {\n",
       "        vertical-align: middle;\n",
       "    }\n",
       "\n",
       "    .dataframe tbody tr th {\n",
       "        vertical-align: top;\n",
       "    }\n",
       "\n",
       "    .dataframe thead th {\n",
       "        text-align: right;\n",
       "    }\n",
       "</style>\n",
       "<table border=\"1\" class=\"dataframe\">\n",
       "  <thead>\n",
       "    <tr style=\"text-align: right;\">\n",
       "      <th></th>\n",
       "      <th>Country</th>\n",
       "      <th>Description</th>\n",
       "      <th>Weather</th>\n",
       "      <th>Affordability</th>\n",
       "      <th>Nature of Inhabitants</th>\n",
       "      <th>Most Visited Landmarks</th>\n",
       "    </tr>\n",
       "  </thead>\n",
       "  <tbody>\n",
       "    <tr>\n",
       "      <th>0</th>\n",
       "      <td>Albania</td>\n",
       "      <td>located in Southeast Europe, is known for its ...</td>\n",
       "      <td>Mediterranean climate with hot, dry summers an...</td>\n",
       "      <td>Affordable</td>\n",
       "      <td>Friendly and hospitable</td>\n",
       "      <td>Skanderbeg Square, Berat, Butrint National Park</td>\n",
       "    </tr>\n",
       "    <tr>\n",
       "      <th>1</th>\n",
       "      <td>Andorra</td>\n",
       "      <td>nestled in the Pyrenees mountains, is a small ...</td>\n",
       "      <td>Mountain climate with cold winters and mild su...</td>\n",
       "      <td>Moderate</td>\n",
       "      <td>Welcoming and multicultural</td>\n",
       "      <td>Casa de la Vall, Vallnord ski resorts, Caldea Spa</td>\n",
       "    </tr>\n",
       "    <tr>\n",
       "      <th>2</th>\n",
       "      <td>Austria</td>\n",
       "      <td>is a landlocked country in Central Europe know...</td>\n",
       "      <td>Varied climates with alpine in the mountains a...</td>\n",
       "      <td>Moderate</td>\n",
       "      <td>Warm and welcoming</td>\n",
       "      <td>Schönbrunn Palace, Hallstatt, Vienna State Opera</td>\n",
       "    </tr>\n",
       "    <tr>\n",
       "      <th>3</th>\n",
       "      <td>Belarus</td>\n",
       "      <td>situated in Eastern Europe, is known for its e...</td>\n",
       "      <td>Continental climate with cold winters and warm...</td>\n",
       "      <td>Affordable</td>\n",
       "      <td>Hospitable and family-oriented</td>\n",
       "      <td>Mir Castle, Białowieża Forest, National Opera ...</td>\n",
       "    </tr>\n",
       "    <tr>\n",
       "      <th>4</th>\n",
       "      <td>Belgium</td>\n",
       "      <td>located in Western Europe, is famous for its m...</td>\n",
       "      <td>Temperate maritime climate with moderate tempe...</td>\n",
       "      <td>Moderate</td>\n",
       "      <td>Open-minded and multicultural</td>\n",
       "      <td>Grand Place, Atomium, Bruges' medieval archite...</td>\n",
       "    </tr>\n",
       "  </tbody>\n",
       "</table>\n",
       "</div>"
      ],
      "text/plain": [
       "   Country                                        Description  \\\n",
       "0  Albania  located in Southeast Europe, is known for its ...   \n",
       "1  Andorra  nestled in the Pyrenees mountains, is a small ...   \n",
       "2  Austria  is a landlocked country in Central Europe know...   \n",
       "3  Belarus  situated in Eastern Europe, is known for its e...   \n",
       "4  Belgium  located in Western Europe, is famous for its m...   \n",
       "\n",
       "                                             Weather Affordability  \\\n",
       "0  Mediterranean climate with hot, dry summers an...    Affordable   \n",
       "1  Mountain climate with cold winters and mild su...      Moderate   \n",
       "2  Varied climates with alpine in the mountains a...      Moderate   \n",
       "3  Continental climate with cold winters and warm...    Affordable   \n",
       "4  Temperate maritime climate with moderate tempe...      Moderate   \n",
       "\n",
       "            Nature of Inhabitants  \\\n",
       "0         Friendly and hospitable   \n",
       "1     Welcoming and multicultural   \n",
       "2              Warm and welcoming   \n",
       "3  Hospitable and family-oriented   \n",
       "4   Open-minded and multicultural   \n",
       "\n",
       "                              Most Visited Landmarks  \n",
       "0    Skanderbeg Square, Berat, Butrint National Park  \n",
       "1  Casa de la Vall, Vallnord ski resorts, Caldea Spa  \n",
       "2   Schönbrunn Palace, Hallstatt, Vienna State Opera  \n",
       "3  Mir Castle, Białowieża Forest, National Opera ...  \n",
       "4  Grand Place, Atomium, Bruges' medieval archite...  "
      ]
     },
     "execution_count": 14,
     "metadata": {},
     "output_type": "execute_result"
    }
   ],
   "source": [
    "df.head()"
   ]
  },
  {
   "cell_type": "code",
   "execution_count": 15,
   "metadata": {},
   "outputs": [],
   "source": [
    "from sentence_transformers import SentenceTransformer\n",
    "\n",
    "model = SentenceTransformer('all-MiniLM-L6-v2')"
   ]
  },
  {
   "cell_type": "code",
   "execution_count": 16,
   "metadata": {},
   "outputs": [],
   "source": [
    "documents = df.apply(lambda row: ', '.join(row), axis=1).tolist()\n",
    "\n",
    "doc_embeddings = model.encode(documents)"
   ]
  },
  {
   "cell_type": "code",
   "execution_count": 17,
   "metadata": {},
   "outputs": [],
   "source": [
    "from sentence_transformers import util\n",
    "import numpy as np\n",
    "\n",
    "def semantic_search(query, doc_embeddings, documents):\n",
    "  query_embedding= model.encode(query)\n",
    "  cosine_similarities = util.pytorch_cos_sim(query_embedding, doc_embeddings)[0]\n",
    "  closest = np.argmax(cosine_similarities)\n",
    "  return documents[closest]"
   ]
  },
  {
   "cell_type": "code",
   "execution_count": 18,
   "metadata": {},
   "outputs": [
    {
     "name": "stdout",
     "output_type": "stream",
     "text": [
      "Query: I want to go somewhere in summer where people are friendly, the weather is warm, there is bathing possibilities, and also i am on a low budget.\n",
      "Best match: Montenegro, along the Adriatic Sea, offers stunning coastal landscapes, historic towns like Kotor, and pristine national parks., Mediterranean climate with hot, dry summers and mild, wet winters, Affordable, Hospitable and diverse, Bay of Kotor, Budva Old Town, Durmitor National Park\n"
     ]
    }
   ],
   "source": [
    "query = \"I want to go somewhere in summer where people are friendly, the weather is warm, there is bathing possibilities, and also i am on a low budget.\"\n",
    "result = semantic_search(query, doc_embeddings, documents)\n",
    "print(f\"Query: {query}\\nBest match: {result}\")"
   ]
  },
  {
   "cell_type": "code",
   "execution_count": 27,
   "metadata": {},
   "outputs": [
    {
     "name": "stdout",
     "output_type": "stream",
     "text": [
      "Running on local URL:  http://127.0.0.1:7866\n",
      "\n",
      "To create a public link, set `share=True` in `launch()`.\n"
     ]
    },
    {
     "data": {
      "text/html": [
       "<div><iframe src=\"http://127.0.0.1:7866/\" width=\"100%\" height=\"500\" allow=\"autoplay; camera; microphone; clipboard-read; clipboard-write;\" frameborder=\"0\" allowfullscreen></iframe></div>"
      ],
      "text/plain": [
       "<IPython.core.display.HTML object>"
      ]
     },
     "metadata": {},
     "output_type": "display_data"
    },
    {
     "data": {
      "text/plain": []
     },
     "execution_count": 27,
     "metadata": {},
     "output_type": "execute_result"
    }
   ],
   "source": [
    "import gradio as gr\n",
    "\n",
    "def semantic_search(query):\n",
    "    query_embedding = model.encode(query)\n",
    "    cosine_similarities = util.pytorch_cos_sim(query_embedding, doc_embeddings)[0]\n",
    "    closest = np.argmax(cosine_similarities)\n",
    "    return documents[closest]\n",
    "\n",
    "iface = gr.Interface(\n",
    "    fn=semantic_search,\n",
    "    inputs=gr.Textbox(label=\"Enter your query\", placeholder=\"Type your query here...\"),\n",
    "    outputs=gr.Textbox(label=\"Search Result\"),\n",
    "    live=False,\n",
    "    title=\"Destination recommender based on text data\"\n",
    ")\n",
    "\n",
    "iface.launch()\n"
   ]
  }
 ],
 "metadata": {
  "kernelspec": {
   "display_name": ".venv",
   "language": "python",
   "name": "python3"
  },
  "language_info": {
   "codemirror_mode": {
    "name": "ipython",
    "version": 3
   },
   "file_extension": ".py",
   "mimetype": "text/x-python",
   "name": "python",
   "nbconvert_exporter": "python",
   "pygments_lexer": "ipython3",
   "version": "3.9.7"
  }
 },
 "nbformat": 4,
 "nbformat_minor": 2
}
